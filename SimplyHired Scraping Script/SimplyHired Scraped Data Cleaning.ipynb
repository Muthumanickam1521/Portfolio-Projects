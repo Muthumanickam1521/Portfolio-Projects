{
 "cells": [
  {
   "cell_type": "markdown",
   "id": "7630c1df",
   "metadata": {},
   "source": [
    "# SimplyHired Scraped Data Cleaning\n",
    "##### Dated on: 19 - 04 - 2023"
   ]
  },
  {
   "cell_type": "code",
   "execution_count": 69,
   "id": "7ddc677b",
   "metadata": {},
   "outputs": [],
   "source": [
    "import pandas as pd"
   ]
  },
  {
   "cell_type": "code",
   "execution_count": 70,
   "id": "59d9e332",
   "metadata": {},
   "outputs": [
    {
     "data": {
      "text/html": [
       "<div>\n",
       "<style scoped>\n",
       "    .dataframe tbody tr th:only-of-type {\n",
       "        vertical-align: middle;\n",
       "    }\n",
       "\n",
       "    .dataframe tbody tr th {\n",
       "        vertical-align: top;\n",
       "    }\n",
       "\n",
       "    .dataframe thead th {\n",
       "        text-align: right;\n",
       "    }\n",
       "</style>\n",
       "<table border=\"1\" class=\"dataframe\">\n",
       "  <thead>\n",
       "    <tr style=\"text-align: right;\">\n",
       "      <th></th>\n",
       "      <th>Title</th>\n",
       "      <th>Company</th>\n",
       "      <th>Location</th>\n",
       "      <th>Qualifications</th>\n",
       "      <th>Url</th>\n",
       "    </tr>\n",
       "  </thead>\n",
       "  <tbody>\n",
       "    <tr>\n",
       "      <th>0</th>\n",
       "      <td>Data Scientist</td>\n",
       "      <td>Internatinal Scientific Research and Publications</td>\n",
       "      <td>Chennai, Tamil Nadu</td>\n",
       "      <td>[]</td>\n",
       "      <td>https://www.simplyhired.co.in/job/iN4jGuarlOpO...</td>\n",
       "    </tr>\n",
       "    <tr>\n",
       "      <th>1</th>\n",
       "      <td>Data Scientist</td>\n",
       "      <td>Deloitte</td>\n",
       "      <td>Chennai, Tamil Nadu</td>\n",
       "      <td>['Design patterns', 'Azure', 'SQL', 'PyTorch',...</td>\n",
       "      <td>https://www.simplyhired.co.in/job/Si4NFKGVDKO9...</td>\n",
       "    </tr>\n",
       "    <tr>\n",
       "      <th>2</th>\n",
       "      <td>Senior Data Scientist</td>\n",
       "      <td>Kroll</td>\n",
       "      <td>Hyderabad, Telangana</td>\n",
       "      <td>['Project management', 'Analysis skills', 'Azu...</td>\n",
       "      <td>https://www.simplyhired.co.in/job/VMl0QIFIndL6...</td>\n",
       "    </tr>\n",
       "    <tr>\n",
       "      <th>3</th>\n",
       "      <td>Assistant Manager - US Innovation Data Scienti...</td>\n",
       "      <td>Deloitte</td>\n",
       "      <td>Bengaluru, Karnataka</td>\n",
       "      <td>['Sage', 'Power BI', 'D3.js', 'Azure', 'PyTorc...</td>\n",
       "      <td>https://www.simplyhired.co.in/job/EyhxhGR5MVNZ...</td>\n",
       "    </tr>\n",
       "    <tr>\n",
       "      <th>4</th>\n",
       "      <td>Data Scientist</td>\n",
       "      <td>Mercedes-Benz Research and Development India P...</td>\n",
       "      <td>Bengaluru, Karnataka</td>\n",
       "      <td>['OOP', 'Machine learning', 'Python', 'Forecas...</td>\n",
       "      <td>https://www.simplyhired.co.in/job/E6BkS1JT4PzO...</td>\n",
       "    </tr>\n",
       "  </tbody>\n",
       "</table>\n",
       "</div>"
      ],
      "text/plain": [
       "                                               Title  \\\n",
       "0                                     Data Scientist   \n",
       "1                                     Data Scientist   \n",
       "2                              Senior Data Scientist   \n",
       "3  Assistant Manager - US Innovation Data Scienti...   \n",
       "4                                     Data Scientist   \n",
       "\n",
       "                                             Company              Location  \\\n",
       "0  Internatinal Scientific Research and Publications   Chennai, Tamil Nadu   \n",
       "1                                           Deloitte   Chennai, Tamil Nadu   \n",
       "2                                              Kroll  Hyderabad, Telangana   \n",
       "3                                           Deloitte  Bengaluru, Karnataka   \n",
       "4  Mercedes-Benz Research and Development India P...  Bengaluru, Karnataka   \n",
       "\n",
       "                                      Qualifications  \\\n",
       "0                                                 []   \n",
       "1  ['Design patterns', 'Azure', 'SQL', 'PyTorch',...   \n",
       "2  ['Project management', 'Analysis skills', 'Azu...   \n",
       "3  ['Sage', 'Power BI', 'D3.js', 'Azure', 'PyTorc...   \n",
       "4  ['OOP', 'Machine learning', 'Python', 'Forecas...   \n",
       "\n",
       "                                                 Url  \n",
       "0  https://www.simplyhired.co.in/job/iN4jGuarlOpO...  \n",
       "1  https://www.simplyhired.co.in/job/Si4NFKGVDKO9...  \n",
       "2  https://www.simplyhired.co.in/job/VMl0QIFIndL6...  \n",
       "3  https://www.simplyhired.co.in/job/EyhxhGR5MVNZ...  \n",
       "4  https://www.simplyhired.co.in/job/E6BkS1JT4PzO...  "
      ]
     },
     "execution_count": 70,
     "metadata": {},
     "output_type": "execute_result"
    }
   ],
   "source": [
    "df = pd.read_csv('/home/pearlruby/Project/SimplyHired Scraping Script/sample.csv')\n",
    "df.head()"
   ]
  },
  {
   "cell_type": "markdown",
   "id": "111247ca",
   "metadata": {},
   "source": [
    "The data frame looks raw. So it needs some cleaning and preprocessing."
   ]
  },
  {
   "cell_type": "code",
   "execution_count": 71,
   "id": "ebdff115",
   "metadata": {
    "scrolled": true
   },
   "outputs": [
    {
     "data": {
      "text/html": [
       "<div>\n",
       "<style scoped>\n",
       "    .dataframe tbody tr th:only-of-type {\n",
       "        vertical-align: middle;\n",
       "    }\n",
       "\n",
       "    .dataframe tbody tr th {\n",
       "        vertical-align: top;\n",
       "    }\n",
       "\n",
       "    .dataframe thead th {\n",
       "        text-align: right;\n",
       "    }\n",
       "</style>\n",
       "<table border=\"1\" class=\"dataframe\">\n",
       "  <thead>\n",
       "    <tr style=\"text-align: right;\">\n",
       "      <th></th>\n",
       "      <th>Title</th>\n",
       "      <th>Company</th>\n",
       "      <th>Location</th>\n",
       "      <th>Qualifications</th>\n",
       "      <th>Url</th>\n",
       "    </tr>\n",
       "  </thead>\n",
       "  <tbody>\n",
       "    <tr>\n",
       "      <th>count</th>\n",
       "      <td>1333</td>\n",
       "      <td>1333</td>\n",
       "      <td>1333</td>\n",
       "      <td>1351</td>\n",
       "      <td>1351</td>\n",
       "    </tr>\n",
       "    <tr>\n",
       "      <th>unique</th>\n",
       "      <td>517</td>\n",
       "      <td>791</td>\n",
       "      <td>86</td>\n",
       "      <td>923</td>\n",
       "      <td>997</td>\n",
       "    </tr>\n",
       "    <tr>\n",
       "      <th>top</th>\n",
       "      <td>Data Scientist</td>\n",
       "      <td>Eightfold.AI</td>\n",
       "      <td>Bengaluru, Karnataka</td>\n",
       "      <td>['TensorFlow', 'C++', 'Scala', 'APIs', 'Hadoop...</td>\n",
       "      <td>https://www.simplyhired.co.in/job/tvMd_2YrcOGZ...</td>\n",
       "    </tr>\n",
       "    <tr>\n",
       "      <th>freq</th>\n",
       "      <td>271</td>\n",
       "      <td>90</td>\n",
       "      <td>411</td>\n",
       "      <td>90</td>\n",
       "      <td>95</td>\n",
       "    </tr>\n",
       "  </tbody>\n",
       "</table>\n",
       "</div>"
      ],
      "text/plain": [
       "                 Title       Company              Location  \\\n",
       "count             1333          1333                  1333   \n",
       "unique             517           791                    86   \n",
       "top     Data Scientist  Eightfold.AI  Bengaluru, Karnataka   \n",
       "freq               271            90                   411   \n",
       "\n",
       "                                           Qualifications  \\\n",
       "count                                                1351   \n",
       "unique                                                923   \n",
       "top     ['TensorFlow', 'C++', 'Scala', 'APIs', 'Hadoop...   \n",
       "freq                                                   90   \n",
       "\n",
       "                                                      Url  \n",
       "count                                                1351  \n",
       "unique                                                997  \n",
       "top     https://www.simplyhired.co.in/job/tvMd_2YrcOGZ...  \n",
       "freq                                                   95  "
      ]
     },
     "execution_count": 71,
     "metadata": {},
     "output_type": "execute_result"
    }
   ],
   "source": [
    "df.describe()"
   ]
  },
  {
   "cell_type": "markdown",
   "id": "0985e3f9",
   "metadata": {},
   "source": [
    "* The highest number of posts of job title is Data Scientist.\n",
    "* The highest number of posts of company is Eightfold.AI. \n",
    "* Many job posts have Bengaluru in Karnataka as the work city."
   ]
  },
  {
   "cell_type": "code",
   "execution_count": 72,
   "id": "b172d806",
   "metadata": {},
   "outputs": [
    {
     "name": "stdout",
     "output_type": "stream",
     "text": [
      "<class 'pandas.core.frame.DataFrame'>\n",
      "RangeIndex: 1351 entries, 0 to 1350\n",
      "Data columns (total 5 columns):\n",
      " #   Column          Non-Null Count  Dtype \n",
      "---  ------          --------------  ----- \n",
      " 0   Title           1333 non-null   object\n",
      " 1   Company         1333 non-null   object\n",
      " 2   Location        1333 non-null   object\n",
      " 3   Qualifications  1351 non-null   object\n",
      " 4   Url             1351 non-null   object\n",
      "dtypes: object(5)\n",
      "memory usage: 52.9+ KB\n"
     ]
    }
   ],
   "source": [
    "df.info()"
   ]
  },
  {
   "cell_type": "code",
   "execution_count": 73,
   "id": "403b580f",
   "metadata": {},
   "outputs": [
    {
     "name": "stdout",
     "output_type": "stream",
     "text": [
      "Column Title has 518 unique values\n",
      "Column Company has 792 unique values\n",
      "Column Location has 87 unique values\n",
      "Column Qualifications has 923 unique values\n",
      "Column Url has 997 unique values\n"
     ]
    }
   ],
   "source": [
    "for i in df.columns:\n",
    "    print(f'Column {i} has {len(df[i].unique())} unique values')"
   ]
  },
  {
   "cell_type": "code",
   "execution_count": 74,
   "id": "b5241776",
   "metadata": {},
   "outputs": [
    {
     "name": "stdout",
     "output_type": "stream",
     "text": [
      "Column Title has 0 unwanted string objects\n",
      "Column Company has 0 unwanted string objects\n",
      "Column Location has 0 unwanted string objects\n",
      "Column Qualifications has 35 unwanted string objects\n",
      "Column Url has 0 unwanted string objects\n"
     ]
    }
   ],
   "source": [
    "for i in df.columns:\n",
    "    count = 0\n",
    "    for j in df[i]:\n",
    "        if j == '[]':\n",
    "            count += 1\n",
    "            \n",
    "    print(f'Column {i} has {count} unwanted string objects')"
   ]
  },
  {
   "cell_type": "code",
   "execution_count": 75,
   "id": "5e83ab0c",
   "metadata": {
    "scrolled": true
   },
   "outputs": [
    {
     "data": {
      "text/plain": [
       "Title             18\n",
       "Company           18\n",
       "Location          18\n",
       "Qualifications     0\n",
       "Url                0\n",
       "dtype: int64"
      ]
     },
     "execution_count": 75,
     "metadata": {},
     "output_type": "execute_result"
    }
   ],
   "source": [
    "df.isnull().sum()"
   ]
  },
  {
   "cell_type": "code",
   "execution_count": 76,
   "id": "9f53db54",
   "metadata": {},
   "outputs": [],
   "source": [
    "df = df.replace('[]', None).dropna(how = 'any')"
   ]
  },
  {
   "cell_type": "code",
   "execution_count": 77,
   "id": "a058a219",
   "metadata": {},
   "outputs": [],
   "source": [
    "df['Location'] = [element.split(', ') for element in df['Location']]"
   ]
  },
  {
   "cell_type": "code",
   "execution_count": 78,
   "id": "deae55b1",
   "metadata": {},
   "outputs": [],
   "source": [
    "A = []\n",
    "B = []\n",
    "for i in df['Location']:\n",
    "    if len(i) < 2:\n",
    "        A += ['None']\n",
    "        B += ['None']\n",
    "    else:\n",
    "        A += [i[0]]\n",
    "        B += [i[1]]\n",
    "        \n",
    "df['City'] = pd.Series(A)\n",
    "df['State'] = pd.Series(B)"
   ]
  },
  {
   "cell_type": "code",
   "execution_count": 79,
   "id": "fc6ab0c8",
   "metadata": {},
   "outputs": [
    {
     "name": "stderr",
     "output_type": "stream",
     "text": [
      "/tmp/ipykernel_8642/75477345.py:1: FutureWarning: The default value of regex will change from True to False in a future version. In addition, single character regular expressions will *not* be treated as literal strings when regex=True.\n",
      "  df['Qualifications'] = df['Qualifications'].str.replace('[', '')\n",
      "/tmp/ipykernel_8642/75477345.py:2: FutureWarning: The default value of regex will change from True to False in a future version. In addition, single character regular expressions will *not* be treated as literal strings when regex=True.\n",
      "  df['Qualifications'] = df['Qualifications'].str.replace(']', '')\n"
     ]
    }
   ],
   "source": [
    "df['Qualifications'] = df['Qualifications'].str.replace('[', '')\n",
    "df['Qualifications'] = df['Qualifications'].str.replace(']', '') \n",
    "df['Qualifications'] = df['Qualifications'].str.replace('\\'', '')\n",
    "df['Qualifications'] = df['Qualifications'].str.replace('\"', '')\n",
    "#df['Qualifications'] = df['Qualifications'].str.replace(\"'\", '')"
   ]
  },
  {
   "cell_type": "code",
   "execution_count": 80,
   "id": "bfc185d0",
   "metadata": {},
   "outputs": [],
   "source": [
    "df['Qualifications'] = df['Qualifications'].str.lower()"
   ]
  },
  {
   "cell_type": "code",
   "execution_count": 81,
   "id": "1140bdb1",
   "metadata": {},
   "outputs": [],
   "source": [
    "df['City'] = df['City'].str.lower()\n",
    "df['State'] = df['State'].str.lower()"
   ]
  },
  {
   "cell_type": "code",
   "execution_count": 82,
   "id": "e68af19d",
   "metadata": {},
   "outputs": [],
   "source": [
    "df = df.drop('Location', axis = 1)"
   ]
  },
  {
   "cell_type": "code",
   "execution_count": 83,
   "id": "ea7c2bc2",
   "metadata": {},
   "outputs": [],
   "source": [
    "df['Company'] = df['Company'].str.lower()"
   ]
  },
  {
   "cell_type": "code",
   "execution_count": 84,
   "id": "bd5ff93f",
   "metadata": {},
   "outputs": [],
   "source": [
    "A = []\n",
    "B = []\n",
    "for i in df['Title']:\n",
    "    i = i.split(' - ')\n",
    "    if len(list(i)) < 2:\n",
    "        A += [i[0]]\n",
    "        B += ['None']\n",
    "    else:\n",
    "        A += [i[0]]\n",
    "        B += [i[1]]\n",
    "\n",
    "df['Title 1'] = pd.Series(A)\n",
    "df['Title 2'] = pd.Series(B)"
   ]
  },
  {
   "cell_type": "code",
   "execution_count": 85,
   "id": "b6604e6d",
   "metadata": {},
   "outputs": [],
   "source": [
    "df['Title 1'] = df['Title 1'].str.lower()\n",
    "df['Title 2'] = df['Title 2'].str.lower()\n",
    "\n",
    "df = df.drop('Title', axis = 1)"
   ]
  },
  {
   "cell_type": "code",
   "execution_count": 86,
   "id": "98bbe4dc",
   "metadata": {},
   "outputs": [
    {
     "name": "stdout",
     "output_type": "stream",
     "text": [
      "No of none string in City column: 181\n"
     ]
    }
   ],
   "source": [
    "count = 0\n",
    "for i in df['City']:\n",
    "    if i == 'none':\n",
    "        count += 1\n",
    "        \n",
    "print('No of none string in City column:', count)"
   ]
  },
  {
   "cell_type": "code",
   "execution_count": 87,
   "id": "4c4f2382",
   "metadata": {},
   "outputs": [
    {
     "name": "stdout",
     "output_type": "stream",
     "text": [
      "No of none string in State column: 181\n"
     ]
    }
   ],
   "source": [
    "count = 0\n",
    "for i in df['State']:\n",
    "    if i == 'none':\n",
    "        count += 1\n",
    "        \n",
    "print('No of none string in State column:', count)"
   ]
  },
  {
   "cell_type": "code",
   "execution_count": 88,
   "id": "6aaafcd0",
   "metadata": {},
   "outputs": [
    {
     "name": "stdout",
     "output_type": "stream",
     "text": [
      "No of none string in Title 1 column: 0\n"
     ]
    }
   ],
   "source": [
    "count = 0\n",
    "for i in df['Title 1']:\n",
    "    if i == 'none':\n",
    "        count += 1\n",
    "        \n",
    "print('No of none string in Title 1 column:', count)"
   ]
  },
  {
   "cell_type": "code",
   "execution_count": 89,
   "id": "aad58ecc",
   "metadata": {},
   "outputs": [
    {
     "name": "stdout",
     "output_type": "stream",
     "text": [
      "No of none string in Title 2 column: 1043\n"
     ]
    }
   ],
   "source": [
    "count = 0\n",
    "for i in df['Title 2']:\n",
    "    if i == 'none':\n",
    "        count += 1\n",
    "        \n",
    "print('No of none string in Title 2 column:', count)"
   ]
  },
  {
   "cell_type": "code",
   "execution_count": 90,
   "id": "60be2405",
   "metadata": {},
   "outputs": [
    {
     "data": {
      "text/html": [
       "<div>\n",
       "<style scoped>\n",
       "    .dataframe tbody tr th:only-of-type {\n",
       "        vertical-align: middle;\n",
       "    }\n",
       "\n",
       "    .dataframe tbody tr th {\n",
       "        vertical-align: top;\n",
       "    }\n",
       "\n",
       "    .dataframe thead th {\n",
       "        text-align: right;\n",
       "    }\n",
       "</style>\n",
       "<table border=\"1\" class=\"dataframe\">\n",
       "  <thead>\n",
       "    <tr style=\"text-align: right;\">\n",
       "      <th></th>\n",
       "      <th>Company</th>\n",
       "      <th>Qualifications</th>\n",
       "      <th>Url</th>\n",
       "      <th>City</th>\n",
       "      <th>State</th>\n",
       "      <th>Title 1</th>\n",
       "      <th>Title 2</th>\n",
       "    </tr>\n",
       "  </thead>\n",
       "  <tbody>\n",
       "    <tr>\n",
       "      <th>count</th>\n",
       "      <td>1316</td>\n",
       "      <td>1316</td>\n",
       "      <td>1316</td>\n",
       "      <td>1287</td>\n",
       "      <td>1287</td>\n",
       "      <td>1287</td>\n",
       "      <td>1287</td>\n",
       "    </tr>\n",
       "    <tr>\n",
       "      <th>unique</th>\n",
       "      <td>777</td>\n",
       "      <td>922</td>\n",
       "      <td>981</td>\n",
       "      <td>74</td>\n",
       "      <td>25</td>\n",
       "      <td>434</td>\n",
       "      <td>86</td>\n",
       "    </tr>\n",
       "    <tr>\n",
       "      <th>top</th>\n",
       "      <td>eightfold.ai</td>\n",
       "      <td>tensorflow, c++, scala, apis, hadoop, b.sc, ba...</td>\n",
       "      <td>https://www.simplyhired.co.in/job/tvMd_2YrcOGZ...</td>\n",
       "      <td>bengaluru</td>\n",
       "      <td>karnataka</td>\n",
       "      <td>data scientist</td>\n",
       "      <td>none</td>\n",
       "    </tr>\n",
       "    <tr>\n",
       "      <th>freq</th>\n",
       "      <td>90</td>\n",
       "      <td>90</td>\n",
       "      <td>90</td>\n",
       "      <td>402</td>\n",
       "      <td>407</td>\n",
       "      <td>313</td>\n",
       "      <td>1043</td>\n",
       "    </tr>\n",
       "  </tbody>\n",
       "</table>\n",
       "</div>"
      ],
      "text/plain": [
       "             Company                                     Qualifications  \\\n",
       "count           1316                                               1316   \n",
       "unique           777                                                922   \n",
       "top     eightfold.ai  tensorflow, c++, scala, apis, hadoop, b.sc, ba...   \n",
       "freq              90                                                 90   \n",
       "\n",
       "                                                      Url       City  \\\n",
       "count                                                1316       1287   \n",
       "unique                                                981         74   \n",
       "top     https://www.simplyhired.co.in/job/tvMd_2YrcOGZ...  bengaluru   \n",
       "freq                                                   90        402   \n",
       "\n",
       "            State         Title 1 Title 2  \n",
       "count        1287            1287    1287  \n",
       "unique         25             434      86  \n",
       "top     karnataka  data scientist    none  \n",
       "freq          407             313    1043  "
      ]
     },
     "execution_count": 90,
     "metadata": {},
     "output_type": "execute_result"
    }
   ],
   "source": [
    "df.describe()"
   ]
  },
  {
   "cell_type": "code",
   "execution_count": 91,
   "id": "b5910c0e",
   "metadata": {},
   "outputs": [
    {
     "name": "stdout",
     "output_type": "stream",
     "text": [
      "<class 'pandas.core.frame.DataFrame'>\n",
      "Int64Index: 1316 entries, 1 to 1350\n",
      "Data columns (total 7 columns):\n",
      " #   Column          Non-Null Count  Dtype \n",
      "---  ------          --------------  ----- \n",
      " 0   Company         1316 non-null   object\n",
      " 1   Qualifications  1316 non-null   object\n",
      " 2   Url             1316 non-null   object\n",
      " 3   City            1287 non-null   object\n",
      " 4   State           1287 non-null   object\n",
      " 5   Title 1         1287 non-null   object\n",
      " 6   Title 2         1287 non-null   object\n",
      "dtypes: object(7)\n",
      "memory usage: 82.2+ KB\n"
     ]
    }
   ],
   "source": [
    "df.info()"
   ]
  },
  {
   "cell_type": "code",
   "execution_count": 92,
   "id": "ced33fa8",
   "metadata": {},
   "outputs": [
    {
     "data": {
      "text/html": [
       "<div>\n",
       "<style scoped>\n",
       "    .dataframe tbody tr th:only-of-type {\n",
       "        vertical-align: middle;\n",
       "    }\n",
       "\n",
       "    .dataframe tbody tr th {\n",
       "        vertical-align: top;\n",
       "    }\n",
       "\n",
       "    .dataframe thead th {\n",
       "        text-align: right;\n",
       "    }\n",
       "</style>\n",
       "<table border=\"1\" class=\"dataframe\">\n",
       "  <thead>\n",
       "    <tr style=\"text-align: right;\">\n",
       "      <th></th>\n",
       "      <th>Company</th>\n",
       "      <th>Qualifications</th>\n",
       "      <th>Url</th>\n",
       "      <th>City</th>\n",
       "      <th>State</th>\n",
       "      <th>Title 1</th>\n",
       "      <th>Title 2</th>\n",
       "    </tr>\n",
       "  </thead>\n",
       "  <tbody>\n",
       "    <tr>\n",
       "      <th>79</th>\n",
       "      <td>united group of initiatives</td>\n",
       "      <td>.net, teaching experience, communication skill...</td>\n",
       "      <td>https://www.simplyhired.co.in/job/1Q5HTnkHVLXW...</td>\n",
       "      <td>bengaluru</td>\n",
       "      <td>karnataka</td>\n",
       "      <td>data scientist</td>\n",
       "      <td>none</td>\n",
       "    </tr>\n",
       "    <tr>\n",
       "      <th>309</th>\n",
       "      <td>eightfold.ai</td>\n",
       "      <td>tensorflow, c++, scala, apis, hadoop, b.sc, ba...</td>\n",
       "      <td>https://www.simplyhired.co.in/job/tvMd_2YrcOGZ...</td>\n",
       "      <td>mumbai</td>\n",
       "      <td>maharashtra</td>\n",
       "      <td>data scientist</td>\n",
       "      <td>none</td>\n",
       "    </tr>\n",
       "    <tr>\n",
       "      <th>331</th>\n",
       "      <td>dtcc</td>\n",
       "      <td>power bi, sql, tableau, sharepoint, informatica</td>\n",
       "      <td>https://www.simplyhired.co.in/job/OHVLXTK5OsdV...</td>\n",
       "      <td>none</td>\n",
       "      <td>none</td>\n",
       "      <td>machine learning engineer</td>\n",
       "      <td>none</td>\n",
       "    </tr>\n",
       "    <tr>\n",
       "      <th>354</th>\n",
       "      <td>eightfold.ai</td>\n",
       "      <td>tensorflow, c++, scala, apis, hadoop, b.sc, ba...</td>\n",
       "      <td>https://www.simplyhired.co.in/job/tvMd_2YrcOGZ...</td>\n",
       "      <td>mumbai</td>\n",
       "      <td>maharashtra</td>\n",
       "      <td>data scientist</td>\n",
       "      <td>none</td>\n",
       "    </tr>\n",
       "    <tr>\n",
       "      <th>358</th>\n",
       "      <td>dtcc</td>\n",
       "      <td>power bi, sql, tableau, sharepoint, informatica</td>\n",
       "      <td>https://www.simplyhired.co.in/job/OHVLXTK5OsdV...</td>\n",
       "      <td>bengaluru</td>\n",
       "      <td>karnataka</td>\n",
       "      <td>data scientist</td>\n",
       "      <td>none</td>\n",
       "    </tr>\n",
       "    <tr>\n",
       "      <th>...</th>\n",
       "      <td>...</td>\n",
       "      <td>...</td>\n",
       "      <td>...</td>\n",
       "      <td>...</td>\n",
       "      <td>...</td>\n",
       "      <td>...</td>\n",
       "      <td>...</td>\n",
       "    </tr>\n",
       "    <tr>\n",
       "      <th>1346</th>\n",
       "      <td>eightfold.ai</td>\n",
       "      <td>tensorflow, c++, scala, apis, hadoop, b.sc, ba...</td>\n",
       "      <td>https://www.simplyhired.co.in/job/tvMd_2YrcOGZ...</td>\n",
       "      <td>NaN</td>\n",
       "      <td>NaN</td>\n",
       "      <td>NaN</td>\n",
       "      <td>NaN</td>\n",
       "    </tr>\n",
       "    <tr>\n",
       "      <th>1347</th>\n",
       "      <td>cimmyt</td>\n",
       "      <td>gis, stata, data collection, communication ski...</td>\n",
       "      <td>https://www.simplyhired.co.in/job/z5sHRDt1VPux...</td>\n",
       "      <td>NaN</td>\n",
       "      <td>NaN</td>\n",
       "      <td>NaN</td>\n",
       "      <td>NaN</td>\n",
       "    </tr>\n",
       "    <tr>\n",
       "      <th>1348</th>\n",
       "      <td>wesco</td>\n",
       "      <td>project management, azure, spark, mysql, strat...</td>\n",
       "      <td>https://www.simplyhired.co.in/job/72QBxvbB0YPA...</td>\n",
       "      <td>NaN</td>\n",
       "      <td>NaN</td>\n",
       "      <td>NaN</td>\n",
       "      <td>NaN</td>\n",
       "    </tr>\n",
       "    <tr>\n",
       "      <th>1349</th>\n",
       "      <td>eightfold.ai</td>\n",
       "      <td>tensorflow, c++, scala, apis, hadoop, b.sc, ba...</td>\n",
       "      <td>https://www.simplyhired.co.in/job/tvMd_2YrcOGZ...</td>\n",
       "      <td>NaN</td>\n",
       "      <td>NaN</td>\n",
       "      <td>NaN</td>\n",
       "      <td>NaN</td>\n",
       "    </tr>\n",
       "    <tr>\n",
       "      <th>1350</th>\n",
       "      <td>cimmyt</td>\n",
       "      <td>gis, stata, data collection, communication ski...</td>\n",
       "      <td>https://www.simplyhired.co.in/job/z5sHRDt1VPux...</td>\n",
       "      <td>NaN</td>\n",
       "      <td>NaN</td>\n",
       "      <td>NaN</td>\n",
       "      <td>NaN</td>\n",
       "    </tr>\n",
       "  </tbody>\n",
       "</table>\n",
       "<p>189 rows × 7 columns</p>\n",
       "</div>"
      ],
      "text/plain": [
       "                          Company  \\\n",
       "79    united group of initiatives   \n",
       "309                  eightfold.ai   \n",
       "331                          dtcc   \n",
       "354                  eightfold.ai   \n",
       "358                          dtcc   \n",
       "...                           ...   \n",
       "1346                 eightfold.ai   \n",
       "1347                       cimmyt   \n",
       "1348                        wesco   \n",
       "1349                 eightfold.ai   \n",
       "1350                       cimmyt   \n",
       "\n",
       "                                         Qualifications  \\\n",
       "79    .net, teaching experience, communication skill...   \n",
       "309   tensorflow, c++, scala, apis, hadoop, b.sc, ba...   \n",
       "331     power bi, sql, tableau, sharepoint, informatica   \n",
       "354   tensorflow, c++, scala, apis, hadoop, b.sc, ba...   \n",
       "358     power bi, sql, tableau, sharepoint, informatica   \n",
       "...                                                 ...   \n",
       "1346  tensorflow, c++, scala, apis, hadoop, b.sc, ba...   \n",
       "1347  gis, stata, data collection, communication ski...   \n",
       "1348  project management, azure, spark, mysql, strat...   \n",
       "1349  tensorflow, c++, scala, apis, hadoop, b.sc, ba...   \n",
       "1350  gis, stata, data collection, communication ski...   \n",
       "\n",
       "                                                    Url       City  \\\n",
       "79    https://www.simplyhired.co.in/job/1Q5HTnkHVLXW...  bengaluru   \n",
       "309   https://www.simplyhired.co.in/job/tvMd_2YrcOGZ...     mumbai   \n",
       "331   https://www.simplyhired.co.in/job/OHVLXTK5OsdV...       none   \n",
       "354   https://www.simplyhired.co.in/job/tvMd_2YrcOGZ...     mumbai   \n",
       "358   https://www.simplyhired.co.in/job/OHVLXTK5OsdV...  bengaluru   \n",
       "...                                                 ...        ...   \n",
       "1346  https://www.simplyhired.co.in/job/tvMd_2YrcOGZ...        NaN   \n",
       "1347  https://www.simplyhired.co.in/job/z5sHRDt1VPux...        NaN   \n",
       "1348  https://www.simplyhired.co.in/job/72QBxvbB0YPA...        NaN   \n",
       "1349  https://www.simplyhired.co.in/job/tvMd_2YrcOGZ...        NaN   \n",
       "1350  https://www.simplyhired.co.in/job/z5sHRDt1VPux...        NaN   \n",
       "\n",
       "            State                    Title 1 Title 2  \n",
       "79      karnataka             data scientist    none  \n",
       "309   maharashtra             data scientist    none  \n",
       "331          none  machine learning engineer    none  \n",
       "354   maharashtra             data scientist    none  \n",
       "358     karnataka             data scientist    none  \n",
       "...           ...                        ...     ...  \n",
       "1346          NaN                        NaN     NaN  \n",
       "1347          NaN                        NaN     NaN  \n",
       "1348          NaN                        NaN     NaN  \n",
       "1349          NaN                        NaN     NaN  \n",
       "1350          NaN                        NaN     NaN  \n",
       "\n",
       "[189 rows x 7 columns]"
      ]
     },
     "execution_count": 92,
     "metadata": {},
     "output_type": "execute_result"
    }
   ],
   "source": [
    "df[df.duplicated()]"
   ]
  },
  {
   "cell_type": "markdown",
   "id": "dff6b151",
   "metadata": {},
   "source": [
    "There are 335 entries as duplicates. They have no use to the analysis. So they are removed from the relational tabule."
   ]
  },
  {
   "cell_type": "code",
   "execution_count": 93,
   "id": "47f9fb69",
   "metadata": {
    "scrolled": true
   },
   "outputs": [],
   "source": [
    "df = df.drop_duplicates()\n",
    "\n",
    "df = df.reset_index()\n",
    "df = df.drop('index', axis = 1)"
   ]
  },
  {
   "cell_type": "markdown",
   "id": "4975be06",
   "metadata": {},
   "source": [
    "After removing the duplicate rows, the data frame is re-indexed."
   ]
  },
  {
   "cell_type": "code",
   "execution_count": 94,
   "id": "11e254b2",
   "metadata": {},
   "outputs": [
    {
     "data": {
      "text/plain": [
       "Company           0\n",
       "Qualifications    0\n",
       "Url               0\n",
       "City              3\n",
       "State             3\n",
       "Title 1           3\n",
       "Title 2           3\n",
       "dtype: int64"
      ]
     },
     "execution_count": 94,
     "metadata": {},
     "output_type": "execute_result"
    }
   ],
   "source": [
    "df.isnull().sum()"
   ]
  },
  {
   "cell_type": "code",
   "execution_count": 95,
   "id": "c5ba820c",
   "metadata": {},
   "outputs": [],
   "source": [
    "df = df.dropna()"
   ]
  },
  {
   "cell_type": "code",
   "execution_count": 96,
   "id": "fee866f7",
   "metadata": {},
   "outputs": [
    {
     "data": {
      "text/plain": [
       "Company           0\n",
       "Qualifications    0\n",
       "Url               0\n",
       "City              0\n",
       "State             0\n",
       "Title 1           0\n",
       "Title 2           0\n",
       "dtype: int64"
      ]
     },
     "execution_count": 96,
     "metadata": {},
     "output_type": "execute_result"
    }
   ],
   "source": [
    "df.isnull().sum()"
   ]
  },
  {
   "cell_type": "code",
   "execution_count": 97,
   "id": "7e004ec0",
   "metadata": {},
   "outputs": [],
   "source": [
    "df.to_csv('sample (cleaned).csv', index = True)"
   ]
  }
 ],
 "metadata": {
  "kernelspec": {
   "display_name": "Python 3 (ipykernel)",
   "language": "python",
   "name": "python3"
  },
  "language_info": {
   "codemirror_mode": {
    "name": "ipython",
    "version": 3
   },
   "file_extension": ".py",
   "mimetype": "text/x-python",
   "name": "python",
   "nbconvert_exporter": "python",
   "pygments_lexer": "ipython3",
   "version": "3.9.13"
  }
 },
 "nbformat": 4,
 "nbformat_minor": 5
}
