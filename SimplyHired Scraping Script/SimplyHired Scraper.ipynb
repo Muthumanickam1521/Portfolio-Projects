{
 "cells": [
  {
   "cell_type": "markdown",
   "id": "a1b77e7d",
   "metadata": {},
   "source": [
    "# SimplyHired Scraping Script \n",
    "##### Dated on: 19 - 04 - 2023"
   ]
  },
  {
   "cell_type": "markdown",
   "id": "b9688396",
   "metadata": {},
   "source": [
    "### Importing libraries"
   ]
  },
  {
   "cell_type": "code",
   "execution_count": 4,
   "id": "19e7dae0",
   "metadata": {},
   "outputs": [],
   "source": [
    "from bs4 import BeautifulSoup\n",
    "import requests\n",
    "import pandas as pd"
   ]
  },
  {
   "cell_type": "markdown",
   "id": "db9d53f0",
   "metadata": {},
   "source": [
    "### Main script"
   ]
  },
  {
   "cell_type": "code",
   "execution_count": null,
   "id": "63bf146a",
   "metadata": {},
   "outputs": [],
   "source": [
    "# Main page soup object\n",
    "url = 'https://www.simplyhired.co.in/search?q=data+scientist&l=India'\n",
    "response = requests.get(url)\n",
    "soup = BeautifulSoup(response.content, 'lxml')\n",
    "\n",
    "# Initialize\n",
    "data = []\n",
    "n = 0\n",
    "\n",
    "# Iterate over pages\n",
    "while n < 100:\n",
    "    # Move to the next page\n",
    "    try:\n",
    "        next_page = soup.find('a', class_ = 'next-pagination').get('href')\n",
    "    except AttributeError:\n",
    "        pass\n",
    "        \n",
    "    baselink = 'https://www.simplyhired.co.in'\n",
    "    compound_link = baselink + next_page\n",
    "    print(f'Page {n}:', compound_link)\n",
    "\n",
    "    # Empty containers\n",
    "    Url = []\n",
    "    Title = []  \n",
    "    list_ = []\n",
    "    list_1 = []\n",
    "    Company = []\n",
    "    Location = []\n",
    "    Working_time = []\n",
    "    \n",
    "    # Fetch all the details of a job post\n",
    "    job_container = soup.find_all(class_ = 'jobposting-title-container')\n",
    "    for i in job_container:\n",
    "        embedded_link = i.find('a')['href']\n",
    "        page_link = baselink + embedded_link\n",
    "        Url = page_link\n",
    "        \n",
    "        response_embedded = requests.get(page_link)\n",
    "        soup_embedded = BeautifulSoup(response_embedded.content, 'lxml')\n",
    "    \n",
    "        # Job title\n",
    "        try:\n",
    "            Title = soup_embedded.find(class_ = 'viewjob-jobTitle h2').string\n",
    "                \n",
    "        except AttributeError:\n",
    "            Title = ''\n",
    "            \n",
    "        # Job location\n",
    "        try:\n",
    "            info = soup_embedded.find(class_ = 'viewjob-header-companyInfo').get_text()\n",
    "            list_ = info.split(' - ')\n",
    "        \n",
    "            Company = list_[0]\n",
    "            Location = list_[1]\n",
    "                \n",
    "        except AttributeError:\n",
    "            Company = ''\n",
    "            Location = ''\n",
    "            \n",
    "        # Job qualification        \n",
    "        try:\n",
    "            soup_embedded.find('div', {'class': 'viewjob-qualifications'})\n",
    "            qualification_section = soup_embedded.find('div', {'class': 'viewjob-qualifications'})\n",
    "            qualification_list = qualification_section.find('ul', {'class': 'Chips'})\n",
    "            list_1 = [li.text for li in qualification_list.find_all('li')]\n",
    "        \n",
    "        except AttributeError:\n",
    "            list_1 = []\n",
    "            \n",
    "        data.append([Title, Company, Location, list_1, Url])\n",
    "        \n",
    "    # Update soup object\n",
    "    response = requests.get(compound_link)\n",
    "    soup = BeautifulSoup(response.content, 'lxml')\n",
    "    \n",
    "    n += 1\n",
    "    \n",
    "# Save dataframe to csv\n",
    "df = pd.DataFrame(data, columns=['Title', 'Company', 'Location', 'Qualifications', 'Url'])\n",
    "df.to_csv('sample.csv', index = True)"
   ]
  }
 ],
 "metadata": {
  "kernelspec": {
   "display_name": "Python 3 (ipykernel)",
   "language": "python",
   "name": "python3"
  },
  "language_info": {
   "codemirror_mode": {
    "name": "ipython",
    "version": 3
   },
   "file_extension": ".py",
   "mimetype": "text/x-python",
   "name": "python",
   "nbconvert_exporter": "python",
   "pygments_lexer": "ipython3",
   "version": "3.9.13"
  }
 },
 "nbformat": 4,
 "nbformat_minor": 5
}
